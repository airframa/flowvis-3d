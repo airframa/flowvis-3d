{
 "cells": [
  {
   "cell_type": "markdown",
   "metadata": {},
   "source": [
    "# **FLOW-VIS 3D APPLICATION - SOFTWARE DEVELOPMENT**\n",
    "\n",
    "*An .ipynb file for flow-vis data representation and quantitative analysis -  application development*"
   ]
  },
  {
   "cell_type": "code",
   "execution_count": 5,
   "metadata": {},
   "outputs": [],
   "source": [
    "#import statements\n",
    "from components.user_interface import UserInterface\n",
    "from components.point_cloud_visualizer import PointCloudVisualizer\n",
    "from components.point_cloud_registration import PointCloudRegistration\n",
    "from components.point_cloud_utils import load_pcd"
   ]
  },
  {
   "cell_type": "markdown",
   "metadata": {},
   "source": [
    "**File selection**\n",
    "\n",
    "- Select a file to be processed from the data folder."
   ]
  },
  {
   "cell_type": "code",
   "execution_count": 6,
   "metadata": {},
   "outputs": [
    {
     "name": "stdout",
     "output_type": "stream",
     "text": [
      "Selected file path: D:/flowvis_data/RearWing_WT_2343_Einstar_registered_CFD.ply\n"
     ]
    }
   ],
   "source": [
    "# Create an instance of UserInterface to handle file selection\n",
    "ui_pcd = UserInterface()\n",
    "ui_pcd.select_file()\n",
    "if ui_pcd.selected_file_path:\n",
    "    print(\"Selected file path:\", ui_pcd.selected_file_path)\n",
    "else:\n",
    "    print(\"Please select a file\")"
   ]
  },
  {
   "cell_type": "markdown",
   "metadata": {},
   "source": [
    "**Note:** \n",
    "At first-time cell execution, the `flowvis_data` folder where the .ply files are stored may not always pop up in the foreground of the Visual Studio Code editor, but in the background or on the side."
   ]
  },
  {
   "cell_type": "markdown",
   "metadata": {},
   "source": [
    "#### FLOW-VIS 3D: APPLICATION WORKFLOW"
   ]
  },
  {
   "cell_type": "markdown",
   "metadata": {},
   "source": [
    "**1. DATA VISUALIZATION**\n",
    "\n",
    "- Load the 3D point cloud data\n",
    "- Obtain an interactive representation of the registered point cloud file (.ply) using the `PointCloudVisualizer` class for visualization."
   ]
  },
  {
   "cell_type": "code",
   "execution_count": 7,
   "metadata": {},
   "outputs": [
    {
     "data": {
      "text/html": [
       "\n",
       "        <style>\n",
       "        .cell-output-ipywidget-background {\n",
       "           background-color: transparent !important;\n",
       "        }\n",
       "        .jp-OutputArea-output {\n",
       "           background-color: transparent;\n",
       "        }\n",
       "        </style>\n",
       "        "
      ],
      "text/plain": [
       "<IPython.core.display.HTML object>"
      ]
     },
     "metadata": {},
     "output_type": "display_data"
    },
    {
     "data": {
      "application/vnd.jupyter.widget-view+json": {
       "model_id": "cd6631b5ac124291ad8fbd1b094f50cc",
       "version_major": 2,
       "version_minor": 0
      },
      "text/plain": [
       "Button(description='Show 3D data', style=ButtonStyle(button_color='red', font_weight='bold'))"
      ]
     },
     "metadata": {},
     "output_type": "display_data"
    },
    {
     "data": {
      "application/vnd.jupyter.widget-view+json": {
       "model_id": "44875029485e493eb29a3ca89341aa03",
       "version_major": 2,
       "version_minor": 0
      },
      "text/plain": [
       "Output()"
      ]
     },
     "metadata": {},
     "output_type": "display_data"
    }
   ],
   "source": [
    "pcd = load_pcd(ui_pcd.selected_file_path)\n",
    "visualizer = PointCloudVisualizer(input_clouds=pcd)"
   ]
  },
  {
   "cell_type": "markdown",
   "metadata": {},
   "source": [
    "**2. POINT CLOUD REGISTRATION**"
   ]
  },
  {
   "cell_type": "markdown",
   "metadata": {},
   "source": [
    "**Target file selection**\n",
    "\n",
    "* Select the target file for the registration."
   ]
  },
  {
   "cell_type": "code",
   "execution_count": 8,
   "metadata": {},
   "outputs": [
    {
     "name": "stdout",
     "output_type": "stream",
     "text": [
      "Selected file path: D:/flowvis_data/registration/test.ply\n"
     ]
    }
   ],
   "source": [
    "# Create an instance of UserInterface to handle file selection\n",
    "ui_target = UserInterface()\n",
    "ui_target.select_file()\n",
    "if ui_target.selected_file_path:\n",
    "    print(\"Selected file path:\", ui_target.selected_file_path)\n",
    "    target_path = ui_target.selected_file_path\n",
    "else:\n",
    "    print(\"Please select a file\")"
   ]
  },
  {
   "cell_type": "markdown",
   "metadata": {},
   "source": [
    "\n",
    "* **Objective**: Precise .PLY point cloud registration to CFD car coordinates or wind tunnel car coordinates (UUT), depending on the registration input file. <p>\n",
    "* **Step 1: Initialization**\n",
    "    * Initialize the `PointCloudRegistration` class with point cloud data (source and target point clouds), either as a file path or pre-loaded point cloud.<p>\n",
    "* **Step 2: `registration.register()`**\n",
    "    * **Operation 1: Feature Detection and Global Registration**\n",
    "        * The source point cloud is heavily downsampled through and instance of `PointCloudPreprocessor` (no point cloud normals are calculated in this context), and *Fast Point Feature Histograms (FPFH)* are computed.\n",
    "        * A *RANSAC*-based global registration aligns the point clouds approximately: multiple iterations are performed with different voxel sizes (best values based on system scale and design iterations) to achieve desired accuracy.\n",
    "        * The target is to achieve a *RANSAC* fitness threshold of 0.90 for high-quality alignment.\n",
    "        * If the desired *RANSAC* quality is met, we proceed to the next step; otherwise, the user is prompted to repeat registration.   \n",
    "    * **Operation 2: Fine Alignment with ICP**\n",
    "        * Point-to-Plane Iterative Closest Point (ICP) is used for fine-grained alignment.\n",
    "        * User-defined ICP required fitness for each one of the feature scales tested (i.e., [20.0. 25.0, 30.0], heuristic values found through extensive experimentation)\n",
    "        * The final transformation matrix, metrics, and the registered point cloud are recorded.\n",
    "        * A visual representation of the registered point cloud (source and target) is enabled for user evaluation by instancing the `PointCloudVisualizer` class.<p>\n",
    "\n",
    "**Notes:** \n",
    "1. There is a chance that alignment may fail on the first try due to bad choice in points sampling during RANSAC global registration. The points are selected randomly by default. To achieve accurate results, repeat the registration process.\n",
    "2. When registering suspension parts, please upload the .stl file with the corresponding setup conditions if available "
   ]
  },
  {
   "cell_type": "code",
   "execution_count": 9,
   "metadata": {},
   "outputs": [
    {
     "data": {
      "text/html": [
       "\n",
       "        <style>\n",
       "        .cell-output-ipywidget-background {\n",
       "           background-color: transparent !important;\n",
       "        }\n",
       "        .jp-OutputArea-output {\n",
       "           background-color: transparent;\n",
       "        }\n",
       "        </style>\n",
       "        "
      ],
      "text/plain": [
       "<IPython.core.display.HTML object>"
      ]
     },
     "metadata": {},
     "output_type": "display_data"
    },
    {
     "data": {
      "application/vnd.jupyter.widget-view+json": {
       "model_id": "72e46e20bd18450c93ae38b4931fc1c5",
       "version_major": 2,
       "version_minor": 0
      },
      "text/plain": [
       "Button(description='Show 3D data', style=ButtonStyle(button_color='red', font_weight='bold'))"
      ]
     },
     "metadata": {},
     "output_type": "display_data"
    },
    {
     "data": {
      "application/vnd.jupyter.widget-view+json": {
       "model_id": "1a9e44f168c54df4b7c5ac39cc3d4929",
       "version_major": 2,
       "version_minor": 0
      },
      "text/plain": [
       "Output()"
      ]
     },
     "metadata": {},
     "output_type": "display_data"
    },
    {
     "ename": "ValueError",
     "evalue": "too many values to unpack (expected 2)",
     "output_type": "error",
     "traceback": [
      "\u001b[1;31m---------------------------------------------------------------------------\u001b[0m",
      "\u001b[1;31mValueError\u001b[0m                                Traceback (most recent call last)",
      "Cell \u001b[1;32mIn[9], line 4\u001b[0m\n\u001b[0;32m      2\u001b[0m registration \u001b[39m=\u001b[39m PointCloudRegistration(source\u001b[39m=\u001b[39mpcd, target\u001b[39m=\u001b[39mui_target\u001b[39m.\u001b[39mselected_file_path)\n\u001b[0;32m      3\u001b[0m \u001b[39m# Register the source point cloud to the target point cloud\u001b[39;00m\n\u001b[1;32m----> 4\u001b[0m pcd_registered, transformation \u001b[39m=\u001b[39m registration\u001b[39m.\u001b[39mregister(desired_fitness_ransac\u001b[39m=\u001b[39m\u001b[39m0.85\u001b[39m, desired_fitness_icp\u001b[39m=\u001b[39m[\u001b[39m0.65\u001b[39m, \u001b[39m0.75\u001b[39m, \u001b[39m0.85\u001b[39m])\n\u001b[0;32m      5\u001b[0m \u001b[39m#pcd_registered, transformation = registration.register( voxel_sizes=[20.0, 25.0, 30.0, 35.0], desired_fitness_ransac=0.45, desired_fitness_icp=[0.45, 0.45, 0.45, 0.45])\u001b[39;00m\n",
      "\u001b[1;31mValueError\u001b[0m: too many values to unpack (expected 2)"
     ]
    }
   ],
   "source": [
    "# Create an instance of the PointCloudRegistration class\n",
    "registration = PointCloudRegistration(source=pcd, target=ui_target.selected_file_path)\n",
    "# Register the source point cloud to the target point cloud\n",
    "pcd_registered, transformation, log_text = registration.register(desired_fitness_ransac=0.85, desired_fitness_icp=[0.65, 0.75, 0.85])\n",
    "#pcd_registered, transformation = registration.register( voxel_sizes=[20.0, 25.0, 30.0, 35.0], desired_fitness_ransac=0.45, desired_fitness_icp=[0.45, 0.45, 0.45, 0.45])"
   ]
  },
  {
   "cell_type": "markdown",
   "metadata": {},
   "source": [
    "* **Step 3: `registration.save_registered_ply()`**\n",
    "    * The registered point cloud is saved as `originalfilename_registered.ply` in the same folder as the original file.\n",
    "    * The registered scaled point cloud is saved as `originalfilename_registered_paraview.ply` in the same folder as the original file. This file is intended for correlation with CFD in Paraview.\n",
    "    * If requested (`save_mesh =True`), the registered mesh .ply file is also saved as `originalfilename_registered_mesh_paraview.ply`. This file can be readily uploaded as a mesh in Sandbox for user inspection. The mesh has been registered by applying the transformation matrix found above and two scaling operations are carried out:\n",
    "        * 1. Scale from mm to m: 1/1000 \n",
    "        * 2. Scale from MS to FS : 1000/600 <p>"
   ]
  },
  {
   "cell_type": "code",
   "execution_count": null,
   "metadata": {},
   "outputs": [],
   "source": [
    "# Save the registered point cloud to a .ply file in the same location as the priginal file (format \"xxx_registered.ply\")\n",
    "registration.save_registered_ply(ui_pcd.selected_file_path, save_mesh=True)"
   ]
  },
  {
   "cell_type": "markdown",
   "metadata": {},
   "source": [
    "* **Conclusion**: The process provides robust and precise registration to align .PLY point clouds to car coordinates. The registration procedure log is stored in the file `registration_log.txt` in the folder `D:\\flowvis_data\\registration`.<p>"
   ]
  },
  {
   "cell_type": "code",
   "execution_count": 1,
   "metadata": {},
   "outputs": [
    {
     "name": "stdout",
     "output_type": "stream",
     "text": [
      "Jupyter environment detected. Enabling Open3D WebVisualizer.\n",
      "[Open3D INFO] WebRTC GUI backend enabled.\n",
      "[Open3D INFO] WebRTCWindowSystem: HTTP handshake server disabled.\n"
     ]
    }
   ],
   "source": [
    "import open3d as o3d\n",
    "import open3d as o3d\n",
    "import tempfile\n",
    "import os\n",
    "\n",
    "def stl_to_point_cloud(stl_file_path):\n",
    "    \"\"\"\n",
    "    Converts an STL file to a Point Cloud and visualizes it.\n",
    "\n",
    "    Args:\n",
    "        stl_file_path (str): Path to the STL file.\n",
    "\n",
    "    Returns:\n",
    "        o3d.geometry.PointCloud: The converted point cloud.\n",
    "    \"\"\"\n",
    "    # Read the mesh from an STL file\n",
    "    mesh = o3d.io.read_triangle_mesh(stl_file_path)\n",
    "\n",
    "    # Create a temporary directory to save the intermediate PLY file\n",
    "    with tempfile.TemporaryDirectory() as temp_dir:\n",
    "        temp_ply_path = os.path.join(temp_dir, 'temp_mesh.ply')\n",
    "        \n",
    "        # Save the mesh to a PLY file\n",
    "        o3d.io.write_triangle_mesh(temp_ply_path, mesh)\n",
    "        \n",
    "        # Read the PLY file back in as a point cloud\n",
    "        pcd = o3d.io.read_point_cloud(temp_ply_path)\n",
    "        \n",
    "        # Optionally visualize the point cloud\n",
    "        o3d.visualization.draw_geometries([pcd], window_name=\"Converted Point Cloud from STL\")\n",
    "        \n",
    "        # No need to manually delete the temp file; it will be removed with the temporary directory\n",
    "        return pcd\n",
    "\n",
    "# Example usage\n",
    "stl_file_path = 'D:/flowvis_data/registration/BODY_M42_Mono_CAD_CFD_MS_v2.stl'\n",
    "ply_file_path = 'D:/flowvis_data/registration/test.ply'\n",
    "point_cloud = stl_to_point_cloud(stl_file_path)\n",
    "\n"
   ]
  },
  {
   "cell_type": "code",
   "execution_count": 2,
   "metadata": {},
   "outputs": [
    {
     "name": "stdout",
     "output_type": "stream",
     "text": [
      "12527806\n"
     ]
    }
   ],
   "source": [
    "print(len(point_cloud.points))"
   ]
  },
  {
   "cell_type": "code",
   "execution_count": 4,
   "metadata": {},
   "outputs": [
    {
     "name": "stdout",
     "output_type": "stream",
     "text": [
      "2450690\n"
     ]
    }
   ],
   "source": [
    "test = o3d.io.read_point_cloud('D:/flowvis_data/registration/BODY_M42_Mono_CAD_CFD_MS_v2.ply')\n",
    "print(len(test.points))"
   ]
  }
 ],
 "metadata": {
  "kernelspec": {
   "display_name": ".venv",
   "language": "python",
   "name": "python3"
  },
  "language_info": {
   "codemirror_mode": {
    "name": "ipython",
    "version": 3
   },
   "file_extension": ".py",
   "mimetype": "text/x-python",
   "name": "python",
   "nbconvert_exporter": "python",
   "pygments_lexer": "ipython3",
   "version": "3.10.11"
  },
  "orig_nbformat": 4
 },
 "nbformat": 4,
 "nbformat_minor": 2
}
